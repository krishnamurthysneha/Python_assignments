{
 "cells": [
  {
   "cell_type": "markdown",
   "metadata": {},
   "source": [
    "# Question1: Enron Analysis"
   ]
  },
  {
   "cell_type": "code",
   "execution_count": 22,
   "metadata": {
    "collapsed": false
   },
   "outputs": [],
   "source": [
    "import os\n",
    "import glob,codecs\n",
    "import csv\n",
    "from email.parser import HeaderParser\n",
    "relative_path='/Users/Sneha/Downloads/maildir'\n",
    "enron_files = [ef for ef in os.listdir(relative_path)]\n",
    "#print(enron_files)\n",
    "global count_mails\n",
    "count_mails=0\n",
    "sent_dict={}\n",
    "recv_dict={}\n",
    "last_names=[]\n",
    "parser = HeaderParser()\n",
    "for a in enron_files:\n",
    "    last_n= a.split('-')\n",
    "    last_names.append(last_n[0])\n",
    "\n",
    "def check_file_or_dir(f,case):\n",
    "    global count_mails\n",
    "    if os.path.isdir(f):\n",
    "        #print (\"i am a directory\", f)\n",
    "        dir_path=[p for p in os.listdir(f)]\n",
    "        for w in dir_path:\n",
    "            if w!='.DS_Store':\n",
    "                new_files=f+'/'+w\n",
    "                check_file_or_dir(new_files,case)\n",
    "    else:\n",
    "        if case==1:\n",
    "            with codecs.open(f, \"r\",encoding='utf-8', errors='ignore') as fdata:\n",
    "                b=fdata.read()\n",
    "                h = parser.parsestr(b)\n",
    "                headers= h.items()\n",
    "                for z in headers:\n",
    "                    head,value=z\n",
    "                    if head=='Date':\n",
    "                        if value.find('Dec 2001')!=-1:\n",
    "                            count_mails=count_mails+1\n",
    "        if case==2:\n",
    "            with codecs.open(f, \"r\",encoding='utf-8', errors='ignore') as fdata:\n",
    "                b=fdata.read()\n",
    "                h = parser.parsestr(b)\n",
    "                headers= h.items()\n",
    "                for z in headers:\n",
    "                    head,value=z\n",
    "                    if head=='From':\n",
    "                        From=value\n",
    "                        for l in last_names:\n",
    "                            if l in From:\n",
    "                                if l not in sent_dict:\n",
    "                                    sent_dict[l]=1\n",
    "                                else:\n",
    "                                    c=sent_dict[l]\n",
    "                                    sent_dict[l]=c+1\n",
    "                            \n",
    "                    if head=='To':\n",
    "                        To=value\n",
    "                        for l in last_names:\n",
    "                                if l in To:\n",
    "                                    if l not in recv_dict:\n",
    "                                        recv_dict[l]=1\n",
    "                                    else:\n",
    "                                        c=recv_dict[l]\n",
    "                                        recv_dict[l]=c+1\n",
    "                        \n",
    "for i in enron_files:\n",
    "    if i!='.DS_Store':\n",
    "        folder_path=relative_path+'/'+i\n",
    "        inside_folder=[f for f in os.listdir(folder_path)]\n",
    "        #print (inside_folder)\n",
    "        for j in inside_folder:\n",
    "            files=folder_path+'/'+j\n",
    "            check_file_or_dir(files,2)\n",
    "#print (count_mails)  \n",
    "#print (len(sent_dict),sent_dict)\n",
    "csvfile=open('enron_file.csv', 'w')\n",
    "title='Last_name'+','+'Sent'+','+'Recieved'+'\\n'\n",
    "csvfile.write(title)\n",
    "for a in last_names:\n",
    "    if a in sent_dict:\n",
    "        sent_name=sent_dict[a]\n",
    "    else:\n",
    "        sent_name=0\n",
    "    if a in recv_dict:\n",
    "        recv_name=recv_dict[a]\n",
    "    else:\n",
    "        recv_name=0\n",
    "    txt=str(a)+','+str(sent_name)+','+str(recv_name)+'\\n'\n",
    "    #print(txt)\n",
    "    #text1=txt(a,sent_name,recv_name)\n",
    "    csvfile.write(txt)\n",
    "#if os.path.isfile('/Users/Sneha/enron_file.csv'):\n",
    "#    os.remove('/Users/Sneha/enron_file.csv')\n",
    "            \n",
    "    "
   ]
  },
  {
   "cell_type": "code",
   "execution_count": null,
   "metadata": {
    "collapsed": true
   },
   "outputs": [],
   "source": [
    "#if a!='.DS_Store':\n",
    "        #m=a.split(\"-\")\n",
    "        #Recv_count = recv_dict[m[0]]\n",
    "        #Sent_count = sent_dict[m[0]]\n",
    "        #print ((m[0]),Recv_count,Sent_count)\n",
    "#print (len(recv_dict),recv_dict)\n",
    "#csvfile=open('Email_log.csv', 'a')\n"
   ]
  },
  {
   "cell_type": "code",
   "execution_count": null,
   "metadata": {
    "collapsed": true
   },
   "outputs": [],
   "source": [
    "\n",
    "\n"
   ]
  }
 ],
 "metadata": {
  "anaconda-cloud": {},
  "kernelspec": {
   "display_name": "Python [conda root]",
   "language": "python",
   "name": "conda-root-py"
  },
  "language_info": {
   "codemirror_mode": {
    "name": "ipython",
    "version": 3
   },
   "file_extension": ".py",
   "mimetype": "text/x-python",
   "name": "python",
   "nbconvert_exporter": "python",
   "pygments_lexer": "ipython3",
   "version": "3.5.2"
  }
 },
 "nbformat": 4,
 "nbformat_minor": 1
}
