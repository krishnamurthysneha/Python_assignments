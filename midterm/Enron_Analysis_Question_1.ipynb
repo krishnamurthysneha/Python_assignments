{
 "cells": [
  {
   "cell_type": "markdown",
   "metadata": {},
   "source": [
    "# Question1: Enron Analysis"
   ]
  },
  {
   "cell_type": "code",
   "execution_count": 21,
   "metadata": {
    "collapsed": false
   },
   "outputs": [
    {
     "name": "stdout",
     "output_type": "stream",
     "text": [
      "142 {'mclaughlin': 1341, 'mims': 999, 'quigley': 676, 'ring': 2890, 'fossum': 3707, 'keavey': 314, 'donohoe': 79, 'beck': 5371, 'smith': 2809, 'ward': 2367, 'pereira': 501, 'panus': 675, 'keiser': 949, 'lokay': 949, 'shankman': 3041, 'benson': 157, 'donoho': 484, 'whalley': 1130, 'stepenovitch': 134, 'perlingiere': 4387, 'skilling': 522, 'salisbury': 183, 'tycholiz': 749, 'scholtes': 326, 'brawner': 560, 'rogers': 3653, 'wolfe': 166, 'hodge': 509, 'zipper': 502, 'storey': 243, 'neal': 2027, 'lenhart': 5308, 'whitt': 623, 'scott': 8268, 'steffes': 3015, 'sanders': 3658, 'dorland': 1874, 'maggi': 808, 'fischer': 140, 'arnold': 3665, 'stclair': 6, 'giron': 3328, 'bailey': 535, 'corman': 947, 'may': 489, 'rodrique': 86, 'shapiro': 1227, 'meyers': 311, 'kuykendall': 818, 'davis': 10740, 'holst': 46, 'germany': 8826, 'platter': 136, 'schwieger': 256, 'causholli': 549, 'hayslett': 1062, 'quenet': 280, 'ybarbo': 5, 'weldon': 800, 'grigsby': 1725, 'lucci': 375, 'cuilla': 291, 'sturm': 630, 'guzman': 1026, 'ermis': 61, 'kaminski': 16361, 'symes': 5459, 'lay': 1550, 'farmer': 3085, 'bass': 5285, 'lewis': 274, 'mann': 17113, 'dasovich': 11433, 'mcconnell': 3069, 'solberg': 146, 'white': 1339, 'harris': 917, 'heard': 1082, 'schoolcraft': 624, 'blair': 1284, 'dean': 270, 'lavorato': 2995, 'saibi': 61, 'slinger': 101, 'badeer': 202, 'ruscitti': 663, 'horton': 1138, 'allen': 2972, 'south': 543, 'martin': 1119, 'presto': 1194, 'staab': 181, 'rapp': 195, 'semperger': 738, 'reitmeyer': 84, 'gang': 149, 'geaccone': 770, 'hernandez': 1462, 'nemec': 3929, 'baughman': 347, 'griffith': 455, 'swerzbin': 77, 'linder': 24, 'kean': 7325, 'jones': 10303, 'pimenov': 83, 'kitchen': 1753, 'sager': 2654, 'campbell': 1829, 'carson': 901, 'hain': 1463, 'hendrickson': 134, 'hyvl': 1458, 'arora': 118, 'haedicke': 2100, 'love': 4553, 'sanchez': 186, 'watson': 1455, 'shackleton': 8798, 'tholt': 1041, 'hyatt': 832, 'taylor': 6271, 'townsend': 219, 'dickson': 486, 'richey': 378, 'forney': 634, 'mccarty': 245, 'thomas': 858, 'parks': 654, 'delainey': 3150, 'williams': 4892, 'mckay': 1156, 'cash': 2035, 'zufferli': 358, 'derrick': 916, 'stokley': 532, 'motley': 437, 'buy': 1290, 'gay': 1282, 'lokey': 157, 'king': 922, 'shively': 1242}\n",
      "144 {'mclaughlin': 2866, 'mims': 3007, 'pereira': 2036, 'ring': 21186, 'fossum': 2195, 'keavey': 2676, 'smith': 17817, 'ward': 14728, 'quigley': 2527, 'panus': 3875, 'keiser': 3890, 'lokay': 4084, 'horton': 3370, 'richey': 600, 'benson': 3747, 'donoho': 4596, 'whalley': 12320, 'storey': 3063, 'stepenovitch': 3156, 'perlingiere': 2811, 'skilling': 3779, 'salisbury': 1485, 'tycholiz': 2569, 'scholtes': 2403, 'brawner': 2907, 'shankman': 4822, 'rogers': 8889, 'wolfe': 5349, 'hodge': 7182, 'zipper': 3020, 'hayslett': 2660, 'neal': 7637, 'meyers': 2013, 'lenhart': 3971, 'whitt': 1272, 'sturm': 3607, 'steffes': 13892, 'sanders': 7119, 'mcconnell': 4888, 'maggi': 2883, 'arnold': 4220, 'stclair': 89, 'giron': 3735, 'bass': 6069, 'ruscitti': 1860, 'may': 7353, 'rodrique': 1103, 'shapiro': 16107, 'platter': 2297, 'kuykendall': 1883, 'davis': 19567, 'beck': 13111, 'hyvl': 2789, 'phanis': 10, 'schwieger': 1863, 'causholli': 1031, 'badeer': 3724, 'quenet': 1794, 'ybarbo': 71, 'weldon': 1284, 'grigsby': 3979, 'lucci': 1972, 'cuilla': 1485, 'scott': 24906, 'guzman': 2545, 'ermis': 2223, 'kaminski': 11973, 'lay': 15225, 'solberg': 1373, 'schoolcraft': 1496, 'farmer': 9068, 'townsend': 2829, 'mann': 12484, 'dasovich': 15086, 'donohoe': 1408, 'swerzbin': 2311, 'white': 12195, 'harris': 8464, 'dorland': 1986, 'heard': 3186, 'fischer': 2490, 'bailey': 6957, 'dean': 5112, 'germany': 4731, 'saibi': 2418, 'slinger': 1171, 'symes': 5509, 'corman': 3834, 'mckay': 7962, 'allen': 12402, 'south': 4391, 'martin': 10434, 'mccarty': 1623, 'staab': 688, 'rapp': 766, 'semperger': 1691, 'reitmeyer': 2060, 'gang': 2013, 'geaccone': 1237, 'hernandez': 6068, 'baughman': 6331, 'griffith': 2700, 'linder': 383, 'kean': 19830, 'jones': 18980, 'pimenov': 1656, 'kitchen': 8352, 'sager': 5939, 'campbell': 6001, 'carson': 3741, 'hendrickson': 1405, 'hain': 4899, 'blair': 2902, 'lewis': 8506, 'arora': 1862, 'cash': 3172, 'haedicke': 5774, 'love': 5616, 'sanchez': 2188, 'watson': 4560, 'shackleton': 11505, 'hyatt': 3022, 'taylor': 18639, 'dickson': 3337, 'tholt': 2882, 'lavorato': 7482, 'nemec': 6895, 'thomas': 10469, 'parks': 1913, 'delainey': 3423, 'williams': 28172, 'holst': 3347, 'presto': 6144, 'zufferli': 846, 'derrick': 2326, 'stokley': 943, 'motley': 1871, 'forney': 2271, 'buy': 3656, 'gay': 4836, 'lokey': 1201, 'king': 12090, 'merriss': 169, 'shively': 4001}\n"
     ]
    }
   ],
   "source": [
    "import os\n",
    "import glob,codecs\n",
    "from email.parser import HeaderParser\n",
    "relative_path='/Users/Sneha/Downloads/maildir'\n",
    "enron_files = [ef for ef in os.listdir(relative_path)]\n",
    "#print(enron_files)\n",
    "global count_mails\n",
    "count_mails=0\n",
    "sent_dict={}\n",
    "recv_dict={}\n",
    "last_names=[]\n",
    "parser = HeaderParser()\n",
    "for a in enron_files:\n",
    "    last_n= a.split('-')\n",
    "    last_names.append(last_n[0])\n",
    "\n",
    "def check_file_or_dir(f,case):\n",
    "    global count_mails\n",
    "    if os.path.isdir(f):\n",
    "        #print (\"i am a directory\", f)\n",
    "        dir_path=[p for p in os.listdir(f)]\n",
    "        for w in dir_path:\n",
    "            if w!='.DS_Store':\n",
    "                new_files=f+'/'+w\n",
    "                check_file_or_dir(new_files,case)\n",
    "    else:\n",
    "        if case==1:\n",
    "            with codecs.open(f, \"r\",encoding='utf-8', errors='ignore') as fdata:\n",
    "                b=fdata.read()\n",
    "                h = parser.parsestr(b)\n",
    "                headers= h.items()\n",
    "                for z in headers:\n",
    "                    head,value=z\n",
    "                    if head=='Date':\n",
    "                        if value.find('Dec 2001')!=-1:\n",
    "                            count_mails=count_mails+1\n",
    "        if case==2:\n",
    "            with codecs.open(f, \"r\",encoding='utf-8', errors='ignore') as fdata:\n",
    "                b=fdata.read()\n",
    "                h = parser.parsestr(b)\n",
    "                headers= h.items()\n",
    "                for z in headers:\n",
    "                    head,value=z\n",
    "                    if head=='From':\n",
    "                        From=value\n",
    "                        for l in last_names:\n",
    "                            if l in From:\n",
    "                                if l not in sent_dict:\n",
    "                                    sent_dict[l]=1\n",
    "                                else:\n",
    "                                    c=sent_dict[l]\n",
    "                                    sent_dict[l]=c+1\n",
    "                    if head=='To':\n",
    "                        To=value\n",
    "                        for l in last_names:\n",
    "                                if l in To:\n",
    "                                    if l not in recv_dict:\n",
    "                                        recv_dict[l]=1\n",
    "                                    else:\n",
    "                                        c=recv_dict[l]\n",
    "                                        recv_dict[l]=c+1\n",
    "                        \n",
    "for i in enron_files:\n",
    "    if i!='.DS_Store':\n",
    "        folder_path=relative_path+'/'+i\n",
    "        inside_folder=[f for f in os.listdir(folder_path)]\n",
    "        #print (inside_folder)\n",
    "        for j in inside_folder:\n",
    "            files=folder_path+'/'+j\n",
    "            check_file_or_dir(files,2)\n",
    "#print (count_mails)  \n",
    "print (len(sent_dict),sent_dict)\n",
    "print (len(recv_dict),recv_dict)"
   ]
  },
  {
   "cell_type": "code",
   "execution_count": null,
   "metadata": {
    "collapsed": true
   },
   "outputs": [],
   "source": []
  },
  {
   "cell_type": "code",
   "execution_count": null,
   "metadata": {
    "collapsed": true
   },
   "outputs": [],
   "source": [
    "def f():#Using def function to put word freq and count to the excel file\n",
    "    csvfile=open('output_file.csv', 'a')\n",
    "    title='word'+','+'count'+','+'freq'+'\\n'\n",
    "    csvfile.write(title)\n",
    "    count=1\n",
    "    for i in s:\n",
    "        word,freq= i\n",
    "        sh_words.append(word)\n",
    "        print(i,count)\n",
    "        txt=lambda w,c,f: str(w)+','+str(c)+','+str(f)+'\\n'\n",
    "        text1=txt(word,count,freq)\n",
    "        csvfile.write(text1)\n",
    "        count=count+1\n",
    "        g=math.log(count)\n",
    "        x.append(g)\n",
    "        #print(g)\n",
    "        h=math.log(freq)\n",
    "        y.append(h)\n",
    "        #print(h)\n",
    "        #math.plot(g,h)\n",
    "#csvfile.closed()\n",
    "if os.path.isfile('/Users/Sneha/output_file.csv'):\n",
    "    os.remove('/Users/Sneha/output_file.csv')\n",
    "f()#Calling the def function to show the word freq and rank\n",
    "plt.plot(x,y,'r.',x,y,'b-')#Plotting the log(freq) vs log(count)\n",
    "plt.xlabel('log(count)')\n",
    "plt.ylabel('log(freq)')\n",
    "plt.show()\n",
    "\n"
   ]
  }
 ],
 "metadata": {
  "anaconda-cloud": {},
  "kernelspec": {
   "display_name": "Python [conda root]",
   "language": "python",
   "name": "conda-root-py"
  },
  "language_info": {
   "codemirror_mode": {
    "name": "ipython",
    "version": 3
   },
   "file_extension": ".py",
   "mimetype": "text/x-python",
   "name": "python",
   "nbconvert_exporter": "python",
   "pygments_lexer": "ipython3",
   "version": "3.5.2"
  }
 },
 "nbformat": 4,
 "nbformat_minor": 1
}
