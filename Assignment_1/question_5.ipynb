{
 "cells": [
  {
   "cell_type": "markdown",
   "metadata": {},
   "source": [
    "# Question 5:\n",
    "Use Gutenberg and Web_text data. Find out what are the top 5 words that Shakespeare used but we do not use in currently.\n",
    "Take top 50 words from Shakespeare (all 3 books) and top 50 from Web_text (all the records).\n",
    "Remove punctuation and stop words.\n",
    "Remove the words we still use today, and get the unused list. Show the top 5 elements. "
   ]
  },
  {
   "cell_type": "code",
   "execution_count": 18,
   "metadata": {
    "collapsed": false
   },
   "outputs": [
    {
     "name": "stdout",
     "output_type": "stream",
     "text": [
      "['austen-emma.txt', 'austen-persuasion.txt', 'austen-sense.txt', 'bible-kjv.txt', 'blake-poems.txt', 'bryant-stories.txt', 'burgess-busterbrown.txt', 'carroll-alice.txt', 'chesterton-ball.txt', 'chesterton-brown.txt', 'chesterton-thursday.txt', 'edgeworth-parents.txt', 'melville-moby_dick.txt', 'milton-paradise.txt', 'shakespeare-caesar.txt', 'shakespeare-hamlet.txt', 'shakespeare-macbeth.txt', 'whitman-leaves.txt']\n",
      "['firefox.txt', 'grail.txt', 'overheard.txt', 'pirates.txt', 'singles.txt', 'wine.txt']\n"
     ]
    }
   ],
   "source": [
    "import nltk\n",
    "from nltk.corpus import words\n",
    "from nltk import FreqDist\n",
    "from nltk.corpus import gutenberg\n",
    "a=gutenberg.fileids()\n",
    "from nltk.corpus import webtext\n",
    "b=webtext.fileids()\n",
    "print(a)\n",
    "print(b)"
   ]
  },
  {
   "cell_type": "code",
   "execution_count": 19,
   "metadata": {
    "collapsed": false
   },
   "outputs": [
    {
     "name": "stdout",
     "output_type": "stream",
     "text": [
      "The topmost words in Shakespeare books:\n",
      " [('the', 1924), ('and', 1405), ('to', 1247), ('of', 1194), ('i', 1145), ('you', 968), ('a', 906), ('my', 849), ('in', 709), ('is', 672), ('not', 668), ('it', 649), ('that', 585), ('his', 537), ('your', 485), ('with', 468), ('me', 460), ('this', 455), ('be', 425), ('he', 398), ('haue', 395), ('for', 382), ('what', 364), ('but', 344), ('him', 343), ('ham', 337), ('will', 336), ('so', 332), ('as', 310), ('our', 307), ('we', 274), ('thou', 269), ('all', 269), ('are', 263), ('no', 260), ('shall', 260), ('lord', 249), ('do', 226), ('on', 226), ('then', 208), ('by', 208), ('king', 201), ('good', 194), ('they', 189), ('thy', 181), ('from', 178), ('come', 177), ('at', 173), ('was', 170), ('if', 157)]\n"
     ]
    }
   ],
   "source": [
    "o=nltk.corpus.gutenberg.raw('shakespeare-caesar.txt')+nltk.corpus.gutenberg.raw('shakespeare-hamlet.txt')+nltk.corpus.gutenberg.raw('shakespeare-macbeth.txt')\n",
    "p=o.lower()#Converting all the data from three shahespeare books to lower case\n",
    "j=''.join(m for m in p if (m.isalpha() or m==\" \") )#Removing numbers and punctuations\n",
    "fd=FreqDist(j.split())#Calculating frequency distribution of words \n",
    "s=fd.most_common(100)#Picking the topmost 100 repeated words\n",
    "sh_words=[]\n",
    "for i in s:\n",
    "    word,freq= i\n",
    "    sh_words.append(word)\n",
    "print (\"The topmost words in Shakespeare books:\\n\",s)"
   ]
  },
  {
   "cell_type": "code",
   "execution_count": 20,
   "metadata": {
    "collapsed": false
   },
   "outputs": [
    {
     "name": "stdout",
     "output_type": "stream",
     "text": [
      "The topmost words in Web_text files:\n",
      " [('the', 7596), ('to', 6258), ('i', 6082), ('a', 6051), ('you', 4858), ('and', 4426), ('in', 4163), ('on', 3189), ('of', 3167), ('is', 2962), ('not', 2587), ('that', 2068), ('it', 2050), ('with', 1908), ('for', 1879), ('when', 1656), ('like', 1607), ('my', 1544), ('but', 1408), ('this', 1404), ('have', 1386), ('so', 1321), ('be', 1293), ('girl', 1263), ('no', 1254), ('dont', 1219), ('was', 1206), ('are', 1198), ('im', 1144), ('guy', 1123), ('me', 1113), ('its', 1095), ('if', 1063), ('what', 1045), ('just', 1023), ('from', 998), ('your', 976), ('do', 969), ('at', 948), ('know', 926), ('all', 893), ('he', 887), ('get', 840), ('up', 769), ('yeah', 739), ('does', 732), ('or', 727), ('we', 703), ('new', 701), ('as', 689)]\n"
     ]
    }
   ],
   "source": [
    "r=''\n",
    "for i in b:#Looping to get all the data of webtext\n",
    "    h=nltk.corpus.webtext.raw(i)\n",
    "    r=r+h\n",
    "r=r.lower()\n",
    "k=''.join(m for m in r if (m.isalpha() or m==\" \") )\n",
    "fd2=FreqDist(k.split())\n",
    "s1=fd2.most_common(100)\n",
    "wb_words=[]\n",
    "for i in s1:\n",
    "    word,freq= i\n",
    "    wb_words.append(word)\n",
    "print (\"The topmost words in Web_text files:\\n\",s1)"
   ]
  },
  {
   "cell_type": "code",
   "execution_count": 21,
   "metadata": {
    "collapsed": false,
    "scrolled": true
   },
   "outputs": [
    {
     "name": "stdout",
     "output_type": "stream",
     "text": [
      "The top 5 words used in Shakespear books athat are not in use today\n"
     ]
    },
    {
     "data": {
      "text/plain": [
       "['haue']"
      ]
     },
     "execution_count": 21,
     "metadata": {},
     "output_type": "execute_result"
    }
   ],
   "source": [
    "def comp(s, s1):\n",
    "    temp=[]\n",
    "    for val in s:\n",
    "        if val not in s1:\n",
    "            temp.append(val)\n",
    "    return temp\n",
    "tot_words=comp(sh_words,wb_words)\n",
    "output=[]\n",
    "for i in tot_words:\n",
    "    if i not in words.words():\n",
    "        output.append(i)\n",
    "print (\"The top 5 words used in Shakespear books athat are not in use today\")\n",
    "output[:5]"
   ]
  },
  {
   "cell_type": "code",
   "execution_count": null,
   "metadata": {
    "collapsed": false
   },
   "outputs": [],
   "source": []
  },
  {
   "cell_type": "code",
   "execution_count": null,
   "metadata": {
    "collapsed": true
   },
   "outputs": [],
   "source": []
  }
 ],
 "metadata": {
  "anaconda-cloud": {},
  "kernelspec": {
   "display_name": "Python [conda root]",
   "language": "python",
   "name": "conda-root-py"
  },
  "language_info": {
   "codemirror_mode": {
    "name": "ipython",
    "version": 3
   },
   "file_extension": ".py",
   "mimetype": "text/x-python",
   "name": "python",
   "nbconvert_exporter": "python",
   "pygments_lexer": "ipython3",
   "version": "3.5.2"
  }
 },
 "nbformat": 4,
 "nbformat_minor": 1
}
