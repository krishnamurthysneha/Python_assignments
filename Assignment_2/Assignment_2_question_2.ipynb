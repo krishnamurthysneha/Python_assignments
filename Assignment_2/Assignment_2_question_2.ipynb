{
 "cells": [
  {
   "cell_type": "code",
   "execution_count": 31,
   "metadata": {
    "collapsed": false
   },
   "outputs": [],
   "source": [
    "import json\n",
    "#/Users/Sneha/Documents/files_for_python/DataAnalysis4Python_Spring17/Assignment 2/Data"
   ]
  },
  {
   "cell_type": "code",
   "execution_count": 99,
   "metadata": {
    "collapsed": false
   },
   "outputs": [
    {
     "name": "stdout",
     "output_type": "stream",
     "text": [
      "U\n",
      "S\n"
     ]
    }
   ],
   "source": [
    "#import pandas as pd\n",
    "import os, json, shutil\n",
    "from shutil import copyfile\n",
    "path_to_json = '/Users/Sneha/Documents/downloaded_files/DataAnalysis4Python_Spring17/Assignment 2/Data'\n",
    "json_files = [pos_json for pos_json in os.listdir(path_to_json) if pos_json.endswith('.json')]\n",
    "#print (json_files)  # for me this prints ['foo.json']\n",
    "#if os.path.isdir(path_to_json+'/Data_Processed'):\n",
    "#shutil.rmtree(path_to_json+'/Data_Processed');\n",
    "os.mkdir( path_to_json+'/Data_Processed', 777 );\n",
    "os.chmod(path_to_json+'/Data_Processed', int('0755') )\n",
    "#os.chown(os.path., 502, 20)\n",
    "'''for root, dirs, files in os.walk(path_to_json): \n",
    "    for momo in dirs:  \n",
    "        os.chown(os.path.join(root, momo), 502, 20)\n",
    "    #for momo in files:\n",
    "        #os.chown(os.path.join(root, momo), 502, 20)'''\n",
    "rest=[]\n",
    "hotel=[]\n",
    "att=[]\n",
    "for js in json_files:\n",
    "    with open(os.path.join(path_to_json, js)) as json_file:\n",
    "        p=json.load(json_file)\n",
    "        z= str(p)\n",
    "        if (z.find(\"'term': 'restaurants'\")!= -1):\n",
    "            rest.append(js)\n",
    "        elif(z.find(\"'term': 'hotels'\")!= -1):\n",
    "            hotel.append(js)\n",
    "        elif(z.find(\"'term': 'attractions'\")!= -1):\n",
    "            att.append(js)\n",
    "        else:\n",
    "            print(\"This is invlaid category\")\n",
    "            break\n",
    "#print (\"resttt\",rest)\n",
    "#print (\"hotelll\",hotel)\n",
    "#print (\"atttt\",att)\n",
    "os.mkdir( path_to_json+'/Data_Processed/Restaurants_Processed', 777 );\n",
    "os.chmod(path_to_json+'/Data_Processed/Restaurants_Processed', int('0755') )\n",
    "os.mkdir( path_to_json+'/Data_Processed/Hotels_Processed', 777 );\n",
    "os.chmod(path_to_json+'/Data_Processed/Hotels_Processed', int('0755'))\n",
    "os.mkdir( path_to_json+'/Data_Processed/Attractions_Processed', 777 );\n",
    "os.chmod(path_to_json+'/Data_Processed/Attractions_Processed', int('0755') )\n",
    "dict_files={}\n",
    "for a in rest:\n",
    "    with open(os.path.join(path_to_json, a)) as j_file:\n",
    "        p=json.load(j_file)\n",
    "        x= str(p)\n",
    "        list_file= x.split(\"'\")\n",
    "        #print (list_file)\n",
    "        ind=list_file.index('country')\n",
    "        country=list_file[ind+2]\n",
    "        #print(country)\n",
    "        if country not in dict_files:\n",
    "            l =[]\n",
    "            l.append(a)\n",
    "            dict_files[country]= l\n",
    "        else:\n",
    "            temp_list= dict_files[country]\n",
    "            temp_list.append(a)\n",
    "            dict_files[country]=temp_list\n",
    "#print (dict_files)\n",
    "\n",
    "#for b in hotel:\n",
    "#    shutil.move(path_to_json+'/'+b, path_to_json+'/Data_Processed/Hotels_Processed'+'/'+b)\n",
    "#for c in att:\n",
    " #   shutil.move(path_to_json+'/'+c, path_to_json+'/Data_Processed/Attractions_Processed'+'/'+c)\n",
    "for key,value in dict_files.iter:\n",
    "    print (key)\n",
    "    print (value)\n",
    "    break\n",
    "    "
   ]
  },
  {
   "cell_type": "code",
   "execution_count": 76,
   "metadata": {
    "collapsed": false
   },
   "outputs": [
    {
     "ename": "FileNotFoundError",
     "evalue": "[Errno 2] No such file or directory: 'json_files'",
     "output_type": "error",
     "traceback": [
      "\u001b[0;31m---------------------------------------------------------------------------\u001b[0m",
      "\u001b[0;31mFileNotFoundError\u001b[0m                         Traceback (most recent call last)",
      "\u001b[0;32m<ipython-input-76-edb25fa454af>\u001b[0m in \u001b[0;36m<module>\u001b[0;34m()\u001b[0m\n\u001b[0;32m----> 1\u001b[0;31m \u001b[0;32mwith\u001b[0m \u001b[0mopen\u001b[0m\u001b[0;34m(\u001b[0m\u001b[0;34m'json_files'\u001b[0m\u001b[0;34m,\u001b[0m \u001b[0;34m'r'\u001b[0m\u001b[0;34m)\u001b[0m \u001b[0;32mas\u001b[0m \u001b[0mlist\u001b[0m\u001b[0;34m:\u001b[0m\u001b[0;34m\u001b[0m\u001b[0m\n\u001b[0m\u001b[1;32m      2\u001b[0m     \u001b[0;32mfor\u001b[0m \u001b[0mline\u001b[0m \u001b[0;32min\u001b[0m \u001b[0minF\u001b[0m\u001b[0;34m:\u001b[0m\u001b[0;34m\u001b[0m\u001b[0m\n\u001b[1;32m      3\u001b[0m         \u001b[0;32mif\u001b[0m \u001b[0;34m'term'\u001b[0m \u001b[0;32min\u001b[0m \u001b[0mline\u001b[0m\u001b[0;34m:\u001b[0m\u001b[0;34m\u001b[0m\u001b[0m\n\u001b[1;32m      4\u001b[0m             \u001b[0mprint\u001b[0m\u001b[0;34m(\u001b[0m\u001b[0mlist\u001b[0m\u001b[0;34m)\u001b[0m\u001b[0;34m\u001b[0m\u001b[0m\n",
      "\u001b[0;31mFileNotFoundError\u001b[0m: [Errno 2] No such file or directory: 'json_files'"
     ]
    }
   ],
   "source": [
    "with open('json_files', 'r') as list:\n",
    "    for line in inF:\n",
    "        if 'term' in line:\n",
    "            print(list)"
   ]
  },
  {
   "cell_type": "code",
   "execution_count": 6,
   "metadata": {
    "collapsed": false
   },
   "outputs": [
    {
     "ename": "IndentationError",
     "evalue": "unindent does not match any outer indentation level (<ipython-input-6-f4f4f976f7d3>, line 9)",
     "output_type": "error",
     "traceback": [
      "\u001b[0;36m  File \u001b[0;32m\"<ipython-input-6-f4f4f976f7d3>\"\u001b[0;36m, line \u001b[0;32m9\u001b[0m\n\u001b[0;31m    \"term\": \"restaurants\"\u001b[0m\n\u001b[0m                         ^\u001b[0m\n\u001b[0;31mIndentationError\u001b[0m\u001b[0;31m:\u001b[0m unindent does not match any outer indentation level\n"
     ]
    }
   ],
   "source": [
    "#log = open(os.path.join(root, f), 'r')\n",
    "list=[]\n",
    "#x=json_files[-2,5]\n",
    "#print(x)\n",
    "for a in json_files:\n",
    "    if 'terminal' in json_files:\n",
    "        a.append(list)\n",
    "        print(list)        \n",
    "  \"term\": \"restaurants\"\n",
    "     \"term\": \"attractions\"\n",
    "             \"term\": \"hotels\""
   ]
  },
  {
   "cell_type": "code",
   "execution_count": null,
   "metadata": {
    "collapsed": true
   },
   "outputs": [],
   "source": []
  }
 ],
 "metadata": {
  "anaconda-cloud": {},
  "kernelspec": {
   "display_name": "Python [conda root]",
   "language": "python",
   "name": "conda-root-py"
  },
  "language_info": {
   "codemirror_mode": {
    "name": "ipython",
    "version": 3
   },
   "file_extension": ".py",
   "mimetype": "text/x-python",
   "name": "python",
   "nbconvert_exporter": "python",
   "pygments_lexer": "ipython3",
   "version": "3.5.2"
  }
 },
 "nbformat": 4,
 "nbformat_minor": 1
}
