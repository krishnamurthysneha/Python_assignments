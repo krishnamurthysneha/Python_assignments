{
 "cells": [
  {
   "cell_type": "code",
   "execution_count": 2,
   "metadata": {
    "collapsed": false
   },
   "outputs": [
    {
     "data": {
      "text/plain": [
       "['austen-emma.txt',\n",
       " 'austen-persuasion.txt',\n",
       " 'austen-sense.txt',\n",
       " 'bible-kjv.txt',\n",
       " 'blake-poems.txt',\n",
       " 'bryant-stories.txt',\n",
       " 'burgess-busterbrown.txt',\n",
       " 'carroll-alice.txt',\n",
       " 'chesterton-ball.txt',\n",
       " 'chesterton-brown.txt',\n",
       " 'chesterton-thursday.txt',\n",
       " 'edgeworth-parents.txt',\n",
       " 'melville-moby_dick.txt',\n",
       " 'milton-paradise.txt',\n",
       " 'shakespeare-caesar.txt',\n",
       " 'shakespeare-hamlet.txt',\n",
       " 'shakespeare-macbeth.txt',\n",
       " 'whitman-leaves.txt']"
      ]
     },
     "execution_count": 2,
     "metadata": {},
     "output_type": "execute_result"
    }
   ],
   "source": [
    "import nltk\n",
    "from nltk.corpus import gutenberg\n",
    "nltk.corpus.gutenberg.fileids()"
   ]
  },
  {
   "cell_type": "code",
   "execution_count": 9,
   "metadata": {
    "collapsed": false
   },
   "outputs": [],
   "source": [
    "a = nltk.corpus.gutenberg.raw('austen-emma.txt')\n",
    "#print(a)"
   ]
  },
  {
   "cell_type": "code",
   "execution_count": 32,
   "metadata": {
    "collapsed": false
   },
   "outputs": [
    {
     "name": "stdout",
     "output_type": "stream",
     "text": [
      "['/Users/Sneha/nltk_data/corpora/gutenberg/austen-emma.txt']\n",
      "The length of the words in the following text file is: 192427\n"
     ]
    },
    {
     "data": {
      "image/png": "[encoded data removed]",
      "text/plain": [
       "<matplotlib.figure.Figure at 0x12859f518>"
      ]
     },
     "metadata": {},
     "output_type": "display_data"
    }
   ],
   "source": [
    "import glob\n",
    "import csv\n",
    "import os\n",
    "import math\n",
    "from math import log\n",
    "import matplotlib.pyplot as plt\n",
    "from nltk import FreqDist\n",
    "from nltk.corpus import gutenberg\n",
    "a=glob.glob('/Users/Sneha/nltk_data/corpora/gutenberg/austen-emma.txt')#Giving the path name where the text file is loacted\n",
    "print(a)\n",
    "b=nltk.corpus.gutenberg.words('austen-emma.txt')\n",
    "print('The length of the words in the following text file is:',len(b))\n",
    "#glob.glob('*.txt')\n",
    "#print (a)\n",
    "for i in a:\n",
    "    v=open(i,'r')\n",
    "    b=v.read()\n",
    "p=b.lower() #Converting all the data from text file to lower case\n",
    "#print(p)    \n",
    "j=''.join(m for m in p if (m.isalpha() or m==\" \"))    #Removing numbers and punctuations\n",
    "#print (j)\n",
    "fd=FreqDist(j.split())   #Calculating frequency distribution of words \n",
    "s=fd.most_common()   #Picking the topmost 100 repeated words\n",
    "#print(s)\n",
    "sh_words=[]\n",
    "x=[]\n",
    "y=[]\n",
    "\n",
    "def f():\n",
    "    count=1\n",
    "    for i in s:\n",
    "        word,freq= i\n",
    "        sh_words.append(word)\n",
    "        print(i,count)\n",
    "        #l=((max(count))*freq)\n",
    "        #print(l)\n",
    "        #print((0.1)*192427)\n",
    "        csvfile=open('output_file.csv', 'a')\n",
    "        txt=str(word)+','+str(count)+','+str(freq)+'\\n'\n",
    "        csvfile.write(txt)\n",
    "        count=count+1\n",
    "        g=math.log(count)\n",
    "        x.append(g)\n",
    "        #print(g)\n",
    "        h=math.log(freq)\n",
    "        y.append(h)\n",
    "        #print(h)\n",
    "        #math.plot(g,h)\n",
    "#csvfile.closed()\n",
    "if os.path.isfile('/Users/Sneha/output_file.csv'):\n",
    "    os.remove('/Users/Sneha/output_file.csv')\n",
    "else:\n",
    "        print('There is no such file')\n",
    "f()\n",
    "plt.plot(x,y,'b')\n",
    "plt.show()\n",
    "\n",
    "#print (\"The topmost words :\\n\",s)\n",
    "#print (sh_words)\n"
   ]
  },
  {
   "cell_type": "code",
   "execution_count": null,
   "metadata": {
    "collapsed": false
   },
   "outputs": [],
   "source": []
  },
  {
   "cell_type": "code",
   "execution_count": 86,
   "metadata": {
    "collapsed": false
   },
   "outputs": [
    {
     "ename": "TypeError",
     "evalue": "a bytes-like object is required, not 'str'",
     "output_type": "error",
     "traceback": [
      "\u001b[0;31m---------------------------------------------------------------------------\u001b[0m",
      "\u001b[0;31mTypeError\u001b[0m                                 Traceback (most recent call last)",
      "\u001b[0;32m<ipython-input-86-176f6f633d83>\u001b[0m in \u001b[0;36m<module>\u001b[0;34m()\u001b[0m\n\u001b[1;32m      3\u001b[0m     spamwriter = csv.writer(csvfile, delimiter=' ',\n\u001b[1;32m      4\u001b[0m                             quotechar='|', quoting=csv.QUOTE_MINIMAL)\n\u001b[0;32m----> 5\u001b[0;31m     \u001b[0mspamwriter\u001b[0m\u001b[0;34m.\u001b[0m\u001b[0mwriterow\u001b[0m\u001b[0;34m(\u001b[0m\u001b[0;34m[\u001b[0m\u001b[0;34m'Spam'\u001b[0m\u001b[0;34m]\u001b[0m \u001b[0;34m*\u001b[0m \u001b[0;36m5\u001b[0m \u001b[0;34m+\u001b[0m \u001b[0;34m[\u001b[0m\u001b[0;34m'Baked Beans'\u001b[0m\u001b[0;34m]\u001b[0m\u001b[0;34m)\u001b[0m\u001b[0;34m\u001b[0m\u001b[0m\n\u001b[0m\u001b[1;32m      6\u001b[0m     \u001b[0mspamwriter\u001b[0m\u001b[0;34m.\u001b[0m\u001b[0mwriterow\u001b[0m\u001b[0;34m(\u001b[0m\u001b[0;34m[\u001b[0m\u001b[0;34m'Spam'\u001b[0m\u001b[0;34m,\u001b[0m \u001b[0;34m'Lovely Spam'\u001b[0m\u001b[0;34m,\u001b[0m \u001b[0;34m'Wonderful Spam'\u001b[0m\u001b[0;34m]\u001b[0m\u001b[0;34m)\u001b[0m\u001b[0;34m\u001b[0m\u001b[0m\n",
      "\u001b[0;31mTypeError\u001b[0m: a bytes-like object is required, not 'str'"
     ]
    }
   ],
   "source": [
    "x=[[('y',100),1][('s',200),2]]\n",
    "op=open('sample.csv', \"wb\")\n",
    "for every in x:\n",
    "    b=every[0][0]+','+every[0][1]+','+every[1],\n",
    "    op.write(b)"
   ]
  },
  {
   "cell_type": "code",
   "execution_count": 10,
   "metadata": {
    "collapsed": false
   },
   "outputs": [
    {
     "name": "stdout",
     "output_type": "stream",
     "text": [
      "['/Users/Sneha/nltk_data/corpora/gutenberg/austen-emma.txt']\n"
     ]
    }
   ],
   "source": []
  },
  {
   "cell_type": "code",
   "execution_count": null,
   "metadata": {
    "collapsed": true
   },
   "outputs": [],
   "source": [
    "#k = open(k, \"w\")\n",
    "        #csv.writer(csvfile, dialect='excel')\n",
    "        #g=csv.writer(csvfile, delimiter=',', quotechar='|', quoting=csv.QUOTE_MINIMAL)\n",
    "        #g=csv.writer(csvfile, delimiter=',')\n",
    "        #g.writerows(['word','count','freq'])"
   ]
  },
  {
   "cell_type": "code",
   "execution_count": null,
   "metadata": {
    "collapsed": true
   },
   "outputs": [],
   "source": []
  },
  {
   "cell_type": "code",
   "execution_count": 5,
   "metadata": {
    "collapsed": false
   },
   "outputs": [
    {
     "ename": "AttributeError",
     "evalue": "module 'glob' has no attribute 'nltk'",
     "output_type": "error",
     "traceback": [
      "\u001b[0;31m---------------------------------------------------------------------------\u001b[0m",
      "\u001b[0;31mAttributeError\u001b[0m                            Traceback (most recent call last)",
      "\u001b[0;32m<ipython-input-5-abfba2ae306a>\u001b[0m in \u001b[0;36m<module>\u001b[0;34m()\u001b[0m\n\u001b[0;32m----> 1\u001b[0;31m \u001b[0mglob\u001b[0m\u001b[0;34m.\u001b[0m\u001b[0mnltk\u001b[0m\u001b[0;34m.\u001b[0m\u001b[0mcorpus\u001b[0m\u001b[0;34m.\u001b[0m\u001b[0mgutenberg\u001b[0m\u001b[0;34m(\u001b[0m\u001b[0;34m'*.txt'\u001b[0m\u001b[0;34m)\u001b[0m\u001b[0;34m\u001b[0m\u001b[0m\n\u001b[0m",
      "\u001b[0;31mAttributeError\u001b[0m: module 'glob' has no attribute 'nltk'"
     ]
    }
   ],
   "source": [
    "glob.nltk.corpus.gutenberg('*.txt')"
   ]
  },
  {
   "cell_type": "code",
   "execution_count": null,
   "metadata": {
    "collapsed": true
   },
   "outputs": [],
   "source": []
  }
 ],
 "metadata": {
  "anaconda-cloud": {},
  "kernelspec": {
   "display_name": "Python [conda root]",
   "language": "python",
   "name": "conda-root-py"
  },
  "language_info": {
   "codemirror_mode": {
    "name": "ipython",
    "version": 3
   },
   "file_extension": ".py",
   "mimetype": "text/x-python",
   "name": "python",
   "nbconvert_exporter": "python",
   "pygments_lexer": "ipython3",
   "version": "3.5.2"
  }
 },
 "nbformat": 4,
 "nbformat_minor": 1
}
